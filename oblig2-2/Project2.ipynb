{
 "cells": [
  {
   "cell_type": "markdown",
   "metadata": {},
   "source": [
    "# STK-IN4300, oblig 2, Kristian Wold"
   ]
  },
  {
   "cell_type": "code",
   "execution_count": 1,
   "metadata": {},
   "outputs": [
    {
     "name": "stderr",
     "output_type": "stream",
     "text": [
      "Loading required package: lattice\n",
      "Loading required package: ggplot2\n",
      "Registered S3 methods overwritten by 'ggplot2':\n",
      "  method         from \n",
      "  [.quosures     rlang\n",
      "  c.quosures     rlang\n",
      "  print.quosures rlang\n",
      "Loading required package: car\n",
      "Loading required package: carData\n",
      "Loading required package: sandwich\n",
      "Loading required package: Matrix\n",
      "Loaded glmnet 4.0-2\n",
      "Loading required package: nlme\n",
      "This is mgcv 1.8-33. For overview type 'help(\"mgcv-package\")'.\n"
     ]
    }
   ],
   "source": [
    "#install.packages(\"RcmdrMisc\")\n",
    "#install.packages(\"glmnet\")\n",
    "#install.packages(\"caret\")\n",
    "#install.packages(\"mgcv\")\n",
    "#install.packages(\"tree\")\n",
    "\n",
    "library(caret)     #preprocess and scale\n",
    "library(RcmdrMisc) #subselection\n",
    "library(glmnet)    #ridge\n",
    "library(mgcv)      #gam\n",
    "library(rpart)     #trees\n",
    "library(tree)     #trees"
   ]
  },
  {
   "cell_type": "code",
   "execution_count": 2,
   "metadata": {},
   "outputs": [],
   "source": [
    "setwd(\"~/Documents/STK-IN4300/oblig2-2\")"
   ]
  },
  {
   "cell_type": "markdown",
   "metadata": {},
   "source": [
    "### Loading data"
   ]
  },
  {
   "cell_type": "code",
   "execution_count": 3,
   "metadata": {},
   "outputs": [
    {
     "data": {
      "text/plain": [
       "      TPSA            SAacc             H050             MLOGP       \n",
       " Min.   :  0.00   Min.   :  0.00   Min.   : 0.0000   Min.   :-6.446  \n",
       " 1st Qu.: 15.79   1st Qu.: 11.00   1st Qu.: 0.0000   1st Qu.: 1.232  \n",
       " Median : 40.46   Median : 42.68   Median : 0.0000   Median : 2.273  \n",
       " Mean   : 48.47   Mean   : 58.87   Mean   : 0.9377   Mean   : 2.313  \n",
       " 3rd Qu.: 70.02   3rd Qu.: 77.49   3rd Qu.: 1.0000   3rd Qu.: 3.393  \n",
       " Max.   :347.32   Max.   :571.95   Max.   :18.0000   Max.   : 9.148  \n",
       "     RDCHI           GATS1p            nN              C040        \n",
       " Min.   :1.000   Min.   :0.281   Min.   : 0.000   Min.   : 0.0000  \n",
       " 1st Qu.:1.975   1st Qu.:0.737   1st Qu.: 0.000   1st Qu.: 0.0000  \n",
       " Median :2.344   Median :1.020   Median : 1.000   Median : 0.0000  \n",
       " Mean   :2.492   Mean   :1.046   Mean   : 1.004   Mean   : 0.3535  \n",
       " 3rd Qu.:2.911   3rd Qu.:1.266   3rd Qu.: 2.000   3rd Qu.: 0.0000  \n",
       " Max.   :6.439   Max.   :2.500   Max.   :11.000   Max.   :11.0000  \n",
       "      LC50       \n",
       " Min.   : 0.122  \n",
       " 1st Qu.: 3.602  \n",
       " Median : 4.516  \n",
       " Mean   : 4.658  \n",
       " 3rd Qu.: 5.607  \n",
       " Max.   :10.047  "
      ]
     },
     "metadata": {},
     "output_type": "display_data"
    }
   ],
   "source": [
    "data <- read.csv(file = 'qsar_aquatic_toxicity.csv', header = FALSE, sep=\";\")\n",
    "colnames(data) = cbind(\"TPSA\", \"SAacc\", \"H050\", \"MLOGP\", \"RDCHI\", \"GATS1p\", \"nN\", \"C040\", \"LC50\")\n",
    "\n",
    "summary(data)"
   ]
  },
  {
   "cell_type": "markdown",
   "metadata": {},
   "source": [
    "By inspection, some factors of the counting features occure very rarly. These are promptly removed, becaue it can lead to problems if these factors appear in the test data, but not the train data, as their associated parameter will be undefined. This is not a ideal fix, but will be done for all models to ensure a common testing ground."
   ]
  },
  {
   "cell_type": "code",
   "execution_count": 4,
   "metadata": {},
   "outputs": [],
   "source": [
    "data <- data[data$H050<6,]\n",
    "data <- data[data$nN<6,]\n",
    "data <- data[data$C040 < 3,]"
   ]
  },
  {
   "cell_type": "markdown",
   "metadata": {},
   "source": [
    "# Problem 1"
   ]
  },
  {
   "cell_type": "markdown",
   "metadata": {},
   "source": [
    "### Train-Test Split:"
   ]
  },
  {
   "cell_type": "code",
   "execution_count": 9,
   "metadata": {},
   "outputs": [],
   "source": [
    "set.seed(42)\n",
    "n = nrow(data)\n",
    "train_size = floor(0.6*n)\n",
    "train_idx = sample(seq_len(n), size = train_size)\n",
    "\n",
    "train = data[train_idx,]\n",
    "test = data[-train_idx,]"
   ]
  },
  {
   "cell_type": "markdown",
   "metadata": {},
   "source": [
    "## Model with numeric features"
   ]
  },
  {
   "cell_type": "code",
   "execution_count": 10,
   "metadata": {},
   "outputs": [
    {
     "name": "stdout",
     "output_type": "stream",
     "text": [
      "[1] \"MSE train: 1.30751886771986\"\n",
      "[1] \"MSE test: 1.55471329781609\"\n"
     ]
    },
    {
     "data": {
      "text/plain": [
       "\n",
       "Call:\n",
       "lm(formula = LC50 ~ ., data = train)\n",
       "\n",
       "Residuals:\n",
       "    Min      1Q  Median      3Q     Max \n",
       "-2.6160 -0.8128 -0.1343  0.6174  3.8872 \n",
       "\n",
       "Coefficients:\n",
       "             Estimate Std. Error t value Pr(>|t|)    \n",
       "(Intercept)  2.768081   0.304962   9.077  < 2e-16 ***\n",
       "TPSA         0.030000   0.003575   8.392 1.74e-15 ***\n",
       "SAacc       -0.016395   0.002706  -6.060 3.96e-09 ***\n",
       "H050        -0.115121   0.086407  -1.332  0.18374    \n",
       "MLOGP        0.430367   0.082784   5.199 3.66e-07 ***\n",
       "RDCHI        0.502127   0.169634   2.960  0.00331 ** \n",
       "GATS1p      -0.498033   0.199199  -2.500  0.01293 *  \n",
       "nN          -0.160385   0.069173  -2.319  0.02107 *  \n",
       "C040        -0.123879   0.126760  -0.977  0.32920    \n",
       "---\n",
       "Signif. codes:  0 ‘***’ 0.001 ‘**’ 0.01 ‘*’ 0.05 ‘.’ 0.1 ‘ ’ 1\n",
       "\n",
       "Residual standard error: 1.16 on 309 degrees of freedom\n",
       "Multiple R-squared:  0.4923,\tAdjusted R-squared:  0.4791 \n",
       "F-statistic: 37.45 on 8 and 309 DF,  p-value: < 2.2e-16\n"
      ]
     },
     "metadata": {},
     "output_type": "display_data"
    }
   ],
   "source": [
    "fit_numeric_features <- lm(LC50 ~ ., data = train)\n",
    "\n",
    "y_predicted_train = predict.lm(fit_numeric_features, train)\n",
    "mse_train = mean((y_predicted_train - train$LC50)^2)\n",
    "\n",
    "y_predicted_test = predict.lm(fit_numeric_features, test)\n",
    "mse_test = mean((y_predicted_test - test$LC50)^2)\n",
    "\n",
    "print(paste0(\"MSE train: \", mse_train))\n",
    "print(paste0(\"MSE test: \", mse_test))\n",
    "\n",
    "summary(fit_numeric_features)"
   ]
  },
  {
   "cell_type": "markdown",
   "metadata": {},
   "source": [
    "## Model with categorical features"
   ]
  },
  {
   "cell_type": "code",
   "execution_count": 12,
   "metadata": {},
   "outputs": [],
   "source": [
    "#change numeric features to categorical\n",
    "\n",
    "train$H050 <- as.factor(train$H050)\n",
    "test$H050 <- as.factor(test$H050)\n",
    "\n",
    "train$nN <- as.factor(train$nN)\n",
    "test$nN <- as.factor(test$nN)\n",
    "\n",
    "train$C040 <- as.factor(train$C040)\n",
    "test$C040 <- as.factor(test$C040)"
   ]
  },
  {
   "cell_type": "code",
   "execution_count": 15,
   "metadata": {},
   "outputs": [
    {
     "name": "stdout",
     "output_type": "stream",
     "text": [
      "[1] \"MSE train: 1.27033618257513\"\n",
      "[1] \"MSE test: 1.55168452494875\"\n"
     ]
    },
    {
     "data": {
      "text/plain": [
       "\n",
       "Call:\n",
       "lm(formula = LC50 ~ ., data = train)\n",
       "\n",
       "Residuals:\n",
       "    Min      1Q  Median      3Q     Max \n",
       "-4.4249 -0.7925 -0.0219  0.5705  5.1313 \n",
       "\n",
       "Coefficients:\n",
       "             Estimate Std. Error t value Pr(>|t|)    \n",
       "(Intercept)  2.636611   0.291342   9.050  < 2e-16 ***\n",
       "TPSA         0.028007   0.003275   8.551 3.04e-16 ***\n",
       "SAacc       -0.016567   0.002602  -6.368 5.56e-10 ***\n",
       "H0501        0.105558   0.167535   0.630  0.52903    \n",
       "H0502       -0.129239   0.206132  -0.627  0.53106    \n",
       "H0503        0.018924   0.366744   0.052  0.95888    \n",
       "H0504        0.239812   0.441078   0.544  0.58697    \n",
       "H0505        0.859151   0.851407   1.009  0.31357    \n",
       "MLOGP        0.531020   0.075136   7.067 7.63e-12 ***\n",
       "RDCHI        0.398830   0.162204   2.459  0.01439 *  \n",
       "GATS1p      -0.539263   0.178408  -3.023  0.00268 ** \n",
       "nN1          0.297198   0.160956   1.846  0.06561 .  \n",
       "nN2         -0.375541   0.209448  -1.793  0.07377 .  \n",
       "nN3         -0.372101   0.280051  -1.329  0.18475    \n",
       "nN4         -0.754183   0.433549  -1.740  0.08275 .  \n",
       "nN5         -0.918234   0.430390  -2.133  0.03353 *  \n",
       "C0401       -0.115700   0.183490  -0.631  0.52871    \n",
       "C0402        0.131267   0.257371   0.510  0.61033    \n",
       "---\n",
       "Signif. codes:  0 ‘***’ 0.001 ‘**’ 0.01 ‘*’ 0.05 ‘.’ 0.1 ‘ ’ 1\n",
       "\n",
       "Residual standard error: 1.154 on 379 degrees of freedom\n",
       "Multiple R-squared:  0.5366,\tAdjusted R-squared:  0.5158 \n",
       "F-statistic: 25.82 on 17 and 379 DF,  p-value: < 2.2e-16\n"
      ]
     },
     "metadata": {},
     "output_type": "display_data"
    }
   ],
   "source": [
    "fit_factor_features <- lm(LC50 ~ ., data = train)\n",
    "\n",
    "y_predicted_train = predict.lm(fit_factor_features, train)\n",
    "mse_train = mean((y_predicted_train - train$LC50)^2)\n",
    "\n",
    "y_predicted_test = predict.lm(fit_factor_features, test)\n",
    "mse_test = mean((y_predicted_test - test$LC50)^2)\n",
    "\n",
    "print(paste0(\"MSE train: \", mse_train))\n",
    "print(paste0(\"MSE test: \", mse_test))\n",
    "\n",
    "summary(fit_factor_features)"
   ]
  },
  {
   "cell_type": "markdown",
   "metadata": {},
   "source": [
    "Comparing the models, we see that the numeric features of the first model are more significant than the categorical features of the second model. This is because in splitting the numeric features into categorical features, we get more parameters to estimate. The training examples will be split amoung the new categorical features, resulting in less data for estimation per parameter and thus less significance. \n",
    "\n",
    "Still, the models perform similarly good, both achieveing around 1.55 MSE on test. This might be a result of the fact that our model is in a sense regularized, in the sense that categories in the data set that appeared very rearly was removed. These would result in the least significant parameters, but also caused bugs in R in the case that a category appeared in the test data, but not the training data.\n",
    "\n",
    "On the other hand, having more parameters, the second model is more expressive. It's not given that a numeric \n",
    "representation of the counting features is justified. This enforces a linear structure, in the sense that two atoms contribute twice as much to the response as one atom. This might be far from the true nature of the system, and categorical features might be more appropriate."
   ]
  },
  {
   "cell_type": "markdown",
   "metadata": {},
   "source": [
    "### Repeat 200 times"
   ]
  },
  {
   "cell_type": "code",
   "execution_count": 14,
   "metadata": {},
   "outputs": [
    {
     "name": "stdout",
     "output_type": "stream",
     "text": [
      "[1] \"Average MSE on test data for model with numeric features: 1.44059515148494\"\n",
      "[1] \"Average MSE on test data for model with factor features: 1.45521686010559\"\n"
     ]
    }
   ],
   "source": [
    "set.seed(42)\n",
    "mse_numeric = 0\n",
    "mse_factor = 0\n",
    "for (i in 1:200)\n",
    "{\n",
    "    n = nrow(data)\n",
    "    train_size = floor(0.75*n)\n",
    "    train_idx = sample(seq_len(n), size = train_size)\n",
    "\n",
    "    train = data[train_idx,]\n",
    "    test = data[-train_idx,]\n",
    "    \n",
    "    #numeric features\n",
    "    lm_numeric_features <- lm(LC50 ~ ., data = train)\n",
    "    mse_numeric = mse_numeric + mean((test$LC50 - predict.lm(lm_numeric_features, test))^2)\n",
    "    \n",
    "    \n",
    "    #factor features\n",
    "    train$H050 <- as.factor(train$H050)\n",
    "    train$nN <- as.factor(train$nN)\n",
    "    train$C040 <- as.factor(train$C040)\n",
    "    \n",
    "    \n",
    "    test$H050 <- as.factor(test$H050)\n",
    "    test$nN <- as.factor(test$nN)\n",
    "    test$C040 <- as.factor(test$C040)\n",
    "    \n",
    "    \n",
    "    \n",
    "    lm_factor_features <- lm(LC50 ~ ., data = train)\n",
    "    mse_factor = mse_factor + mean((test$LC50 - predict.lm(lm_factor_features, test))^2) \n",
    "}\n",
    "print(paste0(\"Average MSE on test data for model with numeric features: \", mse_numeric/200))\n",
    "print(paste0(\"Average MSE on test data for model with factor features: \", mse_factor/200))\n"
   ]
  },
  {
   "cell_type": "markdown",
   "metadata": {},
   "source": [
    "Averaging the previous procedure over 200 runs, the models perform approximatly equally good."
   ]
  },
  {
   "cell_type": "markdown",
   "metadata": {},
   "source": [
    "## Subset selection"
   ]
  },
  {
   "cell_type": "code",
   "execution_count": 16,
   "metadata": {},
   "outputs": [],
   "source": [
    "set.seed(42)\n",
    "n = nrow(data)\n",
    "train_size = floor(0.6*n)\n",
    "train_idx = sample(seq_len(n), size = train_size)\n",
    "\n",
    "train = data[train_idx,]\n",
    "test = data[-train_idx,]"
   ]
  },
  {
   "cell_type": "code",
   "execution_count": 17,
   "metadata": {},
   "outputs": [
    {
     "name": "stdout",
     "output_type": "stream",
     "text": [
      "\n",
      "Direction:  forward\n",
      "Criterion:  AIC \n",
      "\n",
      "\n",
      "Direction:  backward\n",
      "Criterion:  AIC \n",
      "\n"
     ]
    },
    {
     "data": {
      "text/plain": [
       "\n",
       "Call:\n",
       "lm(formula = LC50 ~ MLOGP + TPSA + SAacc + nN + RDCHI + GATS1p, \n",
       "    data = train)\n",
       "\n",
       "Residuals:\n",
       "    Min      1Q  Median      3Q     Max \n",
       "-2.7286 -0.7679 -0.0836  0.6409  3.9532 \n",
       "\n",
       "Coefficients:\n",
       "             Estimate Std. Error t value Pr(>|t|)    \n",
       "(Intercept)  2.655168   0.285699   9.294  < 2e-16 ***\n",
       "MLOGP        0.471520   0.077119   6.114 2.91e-09 ***\n",
       "TPSA         0.031087   0.003482   8.929  < 2e-16 ***\n",
       "SAacc       -0.018534   0.002288  -8.099 1.27e-14 ***\n",
       "nN          -0.167722   0.068152  -2.461  0.01440 *  \n",
       "RDCHI        0.460664   0.167221   2.755  0.00622 ** \n",
       "GATS1p      -0.440959   0.193700  -2.277  0.02350 *  \n",
       "---\n",
       "Signif. codes:  0 ‘***’ 0.001 ‘**’ 0.01 ‘*’ 0.05 ‘.’ 0.1 ‘ ’ 1\n",
       "\n",
       "Residual standard error: 1.16 on 311 degrees of freedom\n",
       "Multiple R-squared:  0.4886,\tAdjusted R-squared:  0.4788 \n",
       "F-statistic: 49.53 on 6 and 311 DF,  p-value: < 2.2e-16\n"
      ]
     },
     "metadata": {},
     "output_type": "display_data"
    },
    {
     "data": {
      "text/plain": [
       "\n",
       "Call:\n",
       "lm(formula = LC50 ~ TPSA + SAacc + MLOGP + RDCHI + GATS1p + nN, \n",
       "    data = train)\n",
       "\n",
       "Residuals:\n",
       "    Min      1Q  Median      3Q     Max \n",
       "-2.7286 -0.7679 -0.0836  0.6409  3.9532 \n",
       "\n",
       "Coefficients:\n",
       "             Estimate Std. Error t value Pr(>|t|)    \n",
       "(Intercept)  2.655168   0.285699   9.294  < 2e-16 ***\n",
       "TPSA         0.031087   0.003482   8.929  < 2e-16 ***\n",
       "SAacc       -0.018534   0.002288  -8.099 1.27e-14 ***\n",
       "MLOGP        0.471520   0.077119   6.114 2.91e-09 ***\n",
       "RDCHI        0.460664   0.167221   2.755  0.00622 ** \n",
       "GATS1p      -0.440959   0.193700  -2.277  0.02350 *  \n",
       "nN          -0.167722   0.068152  -2.461  0.01440 *  \n",
       "---\n",
       "Signif. codes:  0 ‘***’ 0.001 ‘**’ 0.01 ‘*’ 0.05 ‘.’ 0.1 ‘ ’ 1\n",
       "\n",
       "Residual standard error: 1.16 on 311 degrees of freedom\n",
       "Multiple R-squared:  0.4886,\tAdjusted R-squared:  0.4788 \n",
       "F-statistic: 49.53 on 6 and 311 DF,  p-value: < 2.2e-16\n"
      ]
     },
     "metadata": {},
     "output_type": "display_data"
    },
    {
     "name": "stdout",
     "output_type": "stream",
     "text": [
      "\n",
      "Direction:  forward\n",
      "Criterion:  BIC \n",
      "\n",
      "\n",
      "Direction:  backward\n",
      "Criterion:  BIC \n",
      "\n"
     ]
    },
    {
     "data": {
      "text/plain": [
       "\n",
       "Call:\n",
       "lm(formula = LC50 ~ MLOGP + TPSA + SAacc, data = train)\n",
       "\n",
       "Residuals:\n",
       "    Min      1Q  Median      3Q     Max \n",
       "-2.7374 -0.8233 -0.0893  0.6195  3.9626 \n",
       "\n",
       "Coefficients:\n",
       "             Estimate Std. Error t value Pr(>|t|)    \n",
       "(Intercept)  2.572494   0.170071  15.126  < 2e-16 ***\n",
       "MLOGP        0.663817   0.044389  14.955  < 2e-16 ***\n",
       "TPSA         0.031762   0.003091  10.275  < 2e-16 ***\n",
       "SAacc       -0.016191   0.002122  -7.629 2.86e-13 ***\n",
       "---\n",
       "Signif. codes:  0 ‘***’ 0.001 ‘**’ 0.01 ‘*’ 0.05 ‘.’ 0.1 ‘ ’ 1\n",
       "\n",
       "Residual standard error: 1.18 on 314 degrees of freedom\n",
       "Multiple R-squared:  0.466,\tAdjusted R-squared:  0.4608 \n",
       "F-statistic: 91.32 on 3 and 314 DF,  p-value: < 2.2e-16\n"
      ]
     },
     "metadata": {},
     "output_type": "display_data"
    },
    {
     "data": {
      "text/plain": [
       "\n",
       "Call:\n",
       "lm(formula = LC50 ~ TPSA + SAacc + MLOGP, data = train)\n",
       "\n",
       "Residuals:\n",
       "    Min      1Q  Median      3Q     Max \n",
       "-2.7374 -0.8233 -0.0893  0.6195  3.9626 \n",
       "\n",
       "Coefficients:\n",
       "             Estimate Std. Error t value Pr(>|t|)    \n",
       "(Intercept)  2.572494   0.170071  15.126  < 2e-16 ***\n",
       "TPSA         0.031762   0.003091  10.275  < 2e-16 ***\n",
       "SAacc       -0.016191   0.002122  -7.629 2.86e-13 ***\n",
       "MLOGP        0.663817   0.044389  14.955  < 2e-16 ***\n",
       "---\n",
       "Signif. codes:  0 ‘***’ 0.001 ‘**’ 0.01 ‘*’ 0.05 ‘.’ 0.1 ‘ ’ 1\n",
       "\n",
       "Residual standard error: 1.18 on 314 degrees of freedom\n",
       "Multiple R-squared:  0.466,\tAdjusted R-squared:  0.4608 \n",
       "F-statistic: 91.32 on 3 and 314 DF,  p-value: < 2.2e-16\n"
      ]
     },
     "metadata": {},
     "output_type": "display_data"
    }
   ],
   "source": [
    "full_model = lm(LC50 ~ ., data = train)\n",
    "\n",
    "forwardAIC_model = stepwise(full_model, direction = \"forward\", criterion = \"AIC\", trace=0)\n",
    "backwardAIC_model = stepwise(full_model, direction = \"backward\", criterion = \"AIC\", trace=0)\n",
    "summary(forwardAIC_model)\n",
    "summary(backwardAIC_model)\n",
    "\n",
    "forwardBIC_model = stepwise(full_model, direction = \"forward\", criterion = \"BIC\", trace=0)\n",
    "backwardBIC_model = stepwise(full_model, direction = \"backward\", criterion = \"BIC\", trace=0)\n",
    "summary(forwardBIC_model)\n",
    "summary(backwardBIC_model)"
   ]
  },
  {
   "cell_type": "markdown",
   "metadata": {},
   "source": [
    "Forward selection and backward elimination both produce a sequence of models with different number of features.\n",
    "Forward selection starts with the empty model, and in sequence adds the most significant feature. Backwards elimination starts with the full model, and removes the least significant feature. These are greedy searches. Consider forward selection: It starts by adding the most significant feature, but this does not necesarily mean that this feature is part of the best (exhaustive) subset. Even though the first feature is most significant in isolation, it might be less significant in combination with other features. This is due to correlations among features. \n",
    "\n",
    "In this example, forward and backward with AIC picked the same 6 features, and forward and backward BIC picked the same 3 features. This could mean that there is little correlation among the features, based on what was discussed earlier, so the methods ends up converging."
   ]
  },
  {
   "cell_type": "code",
   "execution_count": 39,
   "metadata": {},
   "outputs": [
    {
     "name": "stdout",
     "output_type": "stream",
     "text": [
      "[1] \"AIC\"\n",
      "[1] \"MSE train: 1,31690411431654\"\n",
      "[1] \"MSE test: 1,50775090112642\"\n",
      "[1] \"AIC\"\n",
      "[1] \"MSE train: 1,37530820219062\"\n",
      "[1] \"MSE test: 1,63328571850494\"\n"
     ]
    }
   ],
   "source": [
    "y_predicted_train = predict.lm(forwardAIC_model, train)\n",
    "mse_train = mean((y_predicted_train - train$LC50)^2)\n",
    "\n",
    "y_predicted_test = predict.lm(forwardAIC_model, test)\n",
    "mse_test = mean((y_predicted_test - test$LC50)^2)\n",
    "\n",
    "print(\"AIC\")\n",
    "print(paste0(\"MSE train: \", mse_train))\n",
    "print(paste0(\"MSE test: \", mse_test))\n",
    "\n",
    "y_predicted_train = predict.lm(forwardBIC_model, train)\n",
    "mse_train = mean((y_predicted_train - train$LC50)^2)\n",
    "\n",
    "y_predicted_test = predict.lm(forwardBIC_model, test)\n",
    "mse_test = mean((y_predicted_test - test$LC50)^2)\n",
    "\n",
    "print(\"AIC\")\n",
    "print(paste0(\"MSE train: \", mse_train))\n",
    "print(paste0(\"MSE test: \", mse_test))"
   ]
  },
  {
   "cell_type": "markdown",
   "metadata": {},
   "source": [
    "## Ridge regression"
   ]
  },
  {
   "cell_type": "code",
   "execution_count": 18,
   "metadata": {},
   "outputs": [],
   "source": [
    "set.seed(42)\n",
    "n = nrow(data)\n",
    "train_size = floor(0.6*n)\n",
    "train_idx = sample(seq_len(n), size = train_size)\n",
    "\n",
    "train = data[train_idx,]\n",
    "test = data[-train_idx,]\n",
    "\n",
    "x_train = as.matrix(train[,-9])\n",
    "y_train = as.matrix(train$LC50)\n",
    "\n",
    "x_test = as.matrix(test[,-9])\n",
    "y_test = as.matrix(test$LC50)\n",
    "\n",
    "scaler = preProcess(x_train)\n",
    "x_train = predict(scaler, x_train)\n",
    "x_test = predict(scaler, x_test)\n",
    "\n",
    "#grid of lambdas\n",
    "grid = 10^seq(-5, -1, length = 20)"
   ]
  },
  {
   "cell_type": "markdown",
   "metadata": {},
   "source": [
    "### CV, 10-fold"
   ]
  },
  {
   "cell_type": "code",
   "execution_count": 19,
   "metadata": {},
   "outputs": [
    {
     "name": "stdout",
     "output_type": "stream",
     "text": [
      "[1] \"Best lambda found with CV: 0,0233572146909012\"\n",
      "[1] \"MSE train: 1,31015102077389\"\n",
      "[1] \"MSE test: 1,55855828284869\"\n"
     ]
    },
    {
     "data": {
      "image/png": "[encoded data removed]",
      "text/plain": [
       "plot without title"
      ]
     },
     "metadata": {},
     "output_type": "display_data"
    }
   ],
   "source": [
    "cv_out = cv.glmnet(x_train, y_train, lambda = grid, \n",
    "                   type.measure = \"deviance\", nfolds = 10, trace.it = 0, alpha = 0)\n",
    "\n",
    "plot(cv_out)\n",
    "opt_lambda <- cv_out$lambda.min #best lambda\n",
    "print(paste0(\"Best lambda found with CV: \", opt_lambda))\n",
    "fit = cv_out$glmnet.fit #all fitted models\n",
    "\n",
    "y_predicted_train <- predict(fit, s = opt_lambda, newx = x_train)\n",
    "mse_train = mean((y_predicted_train - y_train)^2)\n",
    "\n",
    "y_predicted_test <- predict(fit, s = opt_lambda, newx = x_test)\n",
    "mse_test = mean((y_predicted_test - y_test)^2)\n",
    "\n",
    "print(paste0(\"MSE train: \", mse_train))\n",
    "print(paste0(\"MSE test: \", mse_test))"
   ]
  },
  {
   "cell_type": "markdown",
   "metadata": {},
   "source": [
    "From the above plot, the best Ridge model was found for lambda equal $0.023$. However, as seen from the variance in MSE estimated from CV, this model is not signifcantly better than the least penalized model with lambda $10^{-5}$, which is almost unpenalised. With test mse of $1.56$, it is not any better than ordinary OLS."
   ]
  },
  {
   "cell_type": "markdown",
   "metadata": {},
   "source": [
    "### Bootstrap"
   ]
  },
  {
   "cell_type": "code",
   "execution_count": 20,
   "metadata": {},
   "outputs": [
    {
     "data": {
      "image/png": "[encoded data removed]",
      "text/plain": [
       "plot without title"
      ]
     },
     "metadata": {},
     "output_type": "display_data"
    }
   ],
   "source": [
    "set.seed(42)\n",
    "n = nrow(x_train)\n",
    "B = 1000\n",
    "MSE_vec = rep(0,20)\n",
    "\n",
    "for (i in 1:20)\n",
    "{\n",
    "    MSE = 0\n",
    "    for (j in 1:B)\n",
    "    {\n",
    "        idx = sample(seq_len(n), size = n, replace = TRUE)\n",
    "\n",
    "        fit = glmnet(x_train[idx,], y_train[idx,], lambda = grid[i], alpha = 0)\n",
    "        #predict on out of sample\n",
    "        y_predicted = predict(fit, newx = x_train[-idx,])  \n",
    "        MSE = MSE + mean((y_predicted - y_train[-idx,])^2)\n",
    "    }\n",
    "    MSE_vec[i] = MSE/B\n",
    "}\n",
    "plot(log(grid), MSE_vec)"
   ]
  },
  {
   "cell_type": "markdown",
   "metadata": {},
   "source": [
    "Bootstrap turned out fluctuate randomly between the different values of lamba. As seen from the scale of the y-axis, the variance between the MSE caluclated for differnet values of lambda is small, again indicating that the models are nearly equally good."
   ]
  },
  {
   "cell_type": "markdown",
   "metadata": {},
   "source": [
    "## Smoothing splines"
   ]
  },
  {
   "cell_type": "code",
   "execution_count": 27,
   "metadata": {},
   "outputs": [],
   "source": [
    "set.seed(42)\n",
    "n = nrow(data)\n",
    "train_size = floor(0.6*n)\n",
    "train_idx = sample(seq_len(n), size = train_size)\n",
    "\n",
    "train = data[train_idx,]\n",
    "test = data[-train_idx,]"
   ]
  },
  {
   "cell_type": "markdown",
   "metadata": {},
   "source": [
    "### Cubic smoothing splines"
   ]
  },
  {
   "cell_type": "markdown",
   "metadata": {},
   "source": [
    "Fitting a GAM with smoothing cubic splines applied on each feature. Because of repeated values for categorical data, the number of knots for these features needed to be reduced."
   ]
  },
  {
   "cell_type": "code",
   "execution_count": 28,
   "metadata": {},
   "outputs": [
    {
     "name": "stderr",
     "output_type": "stream",
     "text": [
      "Warning message in printCoefmat(x$p.table, digits = digits, signif.stars = signif.stars, :\n",
      "“NAs introduced by coercion”Warning message in printCoefmat(x$s.table, digits = digits, signif.stars = signif.stars, :\n",
      "“NAs introduced by coercion”"
     ]
    },
    {
     "data": {
      "text/plain": [
       "\n",
       "Family: gaussian \n",
       "Link function: identity \n",
       "\n",
       "Formula:\n",
       "LC50 ~ s(TPSA, bs = \"cr\") + s(SAacc, bs = \"cr\") + s(H050, bs = \"cr\", \n",
       "    k = 6) + s(MLOGP, bs = \"cr\") + s(RDCHI, bs = \"cr\") + s(GATS1p, \n",
       "    bs = \"cr\") + s(nN, bs = \"cr\", k = 6) + s(C040, bs = \"cr\", \n",
       "    k = 3)\n",
       "\n",
       "Parametric coefficients:\n",
       "            Estimate Std. Error t value Pr(>|t|)    \n",
       "(Intercept)   4,6955     0,0574   81,81   <2e-16 ***\n",
       "---\n",
       "Signif. codes:  0 ‘***’ 0,001 ‘**’ 0,01 ‘*’ 0,05 ‘.’ 0,1 ‘ ’ 1\n",
       "\n",
       "Approximate significance of smooth terms:\n",
       "            edf Ref.df      F p-value    \n",
       "s(TPSA)   8,731  8,965 15,656 < 2e-16 ***\n",
       "s(SAacc)  7,939  8,598  6,524 < 2e-16 ***\n",
       "s(H050)   1,911  2,352  3,877 0,01454 *  \n",
       "s(MLOGP)  4,814  5,740 10,027 < 2e-16 ***\n",
       "s(RDCHI)  4,878  5,773  0,730 0,52122    \n",
       "s(GATS1p) 1,000  1,000  5,725 0,01738 *  \n",
       "s(nN)     3,914  4,438  3,948 0,00303 ** \n",
       "s(C040)   1,000  1,000  2,348 0,12655    \n",
       "---\n",
       "Signif. codes:  0 ‘***’ 0,001 ‘**’ 0,01 ‘*’ 0,05 ‘.’ 0,1 ‘ ’ 1\n",
       "\n",
       "R-sq.(adj) =  0,594   Deviance explained = 63,8%\n",
       "GCV =  1,178  Scale est. = 1,0477    n = 318"
      ]
     },
     "metadata": {},
     "output_type": "display_data"
    }
   ],
   "source": [
    "fit = gam(LC50 ~ s(TPSA, bs=\"cr\") + \n",
    "          s(SAacc, bs=\"cr\") + \n",
    "          s(H050, bs=\"cr\", k = 6) + \n",
    "          s(MLOGP, bs=\"cr\") + \n",
    "          s(RDCHI, bs=\"cr\") + \n",
    "          s(GATS1p, bs=\"cr\") +\n",
    "          s(nN, bs=\"cr\", k = 6) + \n",
    "          s(C040, bs=\"cr\", k = 3),\n",
    "          data=train)\n",
    "\n",
    "summary(fit)"
   ]
  },
  {
   "cell_type": "code",
   "execution_count": 29,
   "metadata": {},
   "outputs": [
    {
     "name": "stdout",
     "output_type": "stream",
     "text": [
      "[1] \"MSE train: 0,931773983678445\"\n",
      "[1] \"MSE test: 1,81989094666385\"\n"
     ]
    }
   ],
   "source": [
    "y_predicted_train = predict.gam(fit, newdata = train)\n",
    "mse_train = mean((y_predicted_train - train$LC50)^2)\n",
    "\n",
    "y_predicted_test = predict.gam(fit, newdata = test)\n",
    "mse_test = mean((y_predicted_test - test$LC50)^2)\n",
    "\n",
    "print(paste0(\"MSE train: \", mse_train))\n",
    "print(paste0(\"MSE test: \", mse_test))"
   ]
  },
  {
   "cell_type": "markdown",
   "metadata": {},
   "source": [
    "### Reduced number of knots"
   ]
  },
  {
   "cell_type": "markdown",
   "metadata": {},
   "source": [
    "To regularize the model and reduce complexity, the number of knots for each spline was reduced to 5"
   ]
  },
  {
   "cell_type": "code",
   "execution_count": 30,
   "metadata": {},
   "outputs": [],
   "source": [
    "fit = gam(LC50 ~ s(TPSA, bs=\"cr\") + \n",
    "          s(SAacc, bs=\"cr\", k = 6) + \n",
    "          s(H050, bs=\"cr\", k = 6) + \n",
    "          s(MLOGP, bs=\"cr\", k = 6) + \n",
    "          s(RDCHI, bs=\"cr\", k = 6) + \n",
    "          s(GATS1p, bs=\"cr\", k = 6) +\n",
    "          s(nN, bs=\"cr\", k = 6) + \n",
    "          s(C040, bs=\"cr\", k = 3),\n",
    "          data=train)"
   ]
  },
  {
   "cell_type": "code",
   "execution_count": 31,
   "metadata": {},
   "outputs": [
    {
     "name": "stdout",
     "output_type": "stream",
     "text": [
      "[1] \"MSE train: 0,99090074686936\"\n",
      "[1] \"MSE test: 1,80814104728237\"\n"
     ]
    }
   ],
   "source": [
    "y_predicted_train = predict.gam(fit, newdata = train)\n",
    "mse_train = mean((y_predicted_train - train$LC50)^2)\n",
    "\n",
    "y_predicted_test = predict.gam(fit, newdata = test)\n",
    "mse_test = mean((y_predicted_test - test$LC50)^2)\n",
    "\n",
    "print(paste0(\"MSE train: \", mse_train))\n",
    "print(paste0(\"MSE test: \", mse_test))"
   ]
  },
  {
   "cell_type": "markdown",
   "metadata": {},
   "source": [
    "### Regression tree"
   ]
  },
  {
   "cell_type": "code",
   "execution_count": 32,
   "metadata": {},
   "outputs": [],
   "source": [
    "set.seed(42)\n",
    "n = nrow(data)\n",
    "train_size = floor(0.6*n)\n",
    "train_idx = sample(seq_len(n), size = train_size)\n",
    "\n",
    "train = data[train_idx,]\n",
    "test = data[-train_idx,]"
   ]
  },
  {
   "cell_type": "code",
   "execution_count": 33,
   "metadata": {},
   "outputs": [
    {
     "data": {
      "image/png": "[encoded data removed]",
      "text/plain": [
       "plot without title"
      ]
     },
     "metadata": {},
     "output_type": "display_data"
    }
   ],
   "source": [
    "#starting with maximally complex tree(interpolating)\n",
    "full_tree = tree(LC50 ~ ., data = train, mincut=1, mindev = 0, minsize = 2)\n",
    "plot(full_tree)"
   ]
  },
  {
   "cell_type": "markdown",
   "metadata": {},
   "source": [
    "Find sequence of pruned trees unsing cv.tree"
   ]
  },
  {
   "cell_type": "code",
   "execution_count": 34,
   "metadata": {},
   "outputs": [
    {
     "data": {
      "image/png": "[encoded data removed]",
      "text/plain": [
       "plot without title"
      ]
     },
     "metadata": {},
     "output_type": "display_data"
    }
   ],
   "source": [
    "cv = cv.tree(full_tree, K = 5)\n",
    "plot(cv)"
   ]
  },
  {
   "cell_type": "code",
   "execution_count": 35,
   "metadata": {},
   "outputs": [
    {
     "data": {
      "image/png": "[encoded data removed]",
      "text/plain": [
       "plot without title"
      ]
     },
     "metadata": {},
     "output_type": "display_data"
    }
   ],
   "source": [
    "min_idx = which.min(cv$dev)  #index of best model\n",
    "best_size = cv$size[min_idx] #size of best model\n",
    "\n",
    "best_tree = prune.tree(full_tree, best = best_size) #make best model\n",
    "plot(best_tree)\n",
    "text(best_tree)"
   ]
  },
  {
   "cell_type": "code",
   "execution_count": 36,
   "metadata": {},
   "outputs": [
    {
     "name": "stdout",
     "output_type": "stream",
     "text": [
      "[1] \"MSE train: 2,35148990703574\"\n",
      "[1] \"MSE test: 2,76393281776119\"\n"
     ]
    }
   ],
   "source": [
    "y_predicted_train = predict(best_tree, newdata = train)\n",
    "mse_train = mean((y_predicted_train - train$LC50)^2)\n",
    "\n",
    "y_predicted_test = predict(best_tree, newdata = test)\n",
    "mse_test = mean((y_predicted_test - test$LC50)^2)\n",
    "\n",
    "print(paste0(\"MSE train: \", mse_train))\n",
    "print(paste0(\"MSE test: \", mse_test))"
   ]
  },
  {
   "cell_type": "markdown",
   "metadata": {},
   "source": [
    "## Comparing all models"
   ]
  },
  {
   "cell_type": "markdown",
   "metadata": {},
   "source": [
    "The best model turned out to be forward selection/backward elimination with AIC criterion, with train and test MSE of $1.32$ and $1.52$, respectivly. It managed to include 6 of the 8 features, excluding H050 and C040, which from earlier was the least significant.\n",
    "\n",
    "Ridge with was not better, with train and test MSE of $1,31$ and $1,56$. In theory, Ridge is good at dealing with \n",
    "very correlated features. From subselection, we hypothesised that the features was not particularly correlated, so this may explained why little was gained from including Ridge.\n",
    "\n",
    "GAM with smoothing splined tended to overfit, as the train and test MSE was $1.00$ and $1,81$. This was partially removed by reducing the number of knots for each spline, but still proved a worse model.\n",
    "\n",
    "Regression tree proved the worst, with train and test MSE $2.35$ and $2.76$. The model seems to be very seed-dependent. Tree models are particularly noise models, and the bad performance is likely due to little available data. "
   ]
  },
  {
   "cell_type": "markdown",
   "metadata": {},
   "source": [
    "# Problem 2"
   ]
  },
  {
   "cell_type": "code",
   "execution_count": null,
   "metadata": {},
   "outputs": [],
   "source": []
  }
 ],
 "metadata": {
  "kernelspec": {
   "display_name": "R",
   "language": "R",
   "name": "ir"
  },
  "language_info": {
   "codemirror_mode": "r",
   "file_extension": ".r",
   "mimetype": "text/x-r-source",
   "name": "R",
   "pygments_lexer": "r",
   "version": "3.6.1"
  }
 },
 "nbformat": 4,
 "nbformat_minor": 4
}
