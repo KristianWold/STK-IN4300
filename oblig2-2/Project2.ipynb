{
 "cells": [
  {
   "cell_type": "code",
   "execution_count": 31,
   "metadata": {},
   "outputs": [
    {
     "name": "stderr",
     "output_type": "stream",
     "text": [
      "Updating HTML index of packages in '.Library'\n",
      "Making 'packages.html' ... done\n",
      "Loading required package: nlme\n",
      "This is mgcv 1.8-33. For overview type 'help(\"mgcv-package\")'.\n"
     ]
    }
   ],
   "source": [
    "#install.packages(\"mltools\")\n",
    "#install.packages(\"RcmdrMisc\")\n",
    "#install.packages(\"glmnet\")\n",
    "#install.packages(\"caret\")\n",
    "install.packages(\"mgcv\")\n",
    "\n",
    "library(caret)     #preprocess and scale\n",
    "#library(mltools)  #subselection\n",
    "library(RcmdrMisc) #subselection\n",
    "library(glmnet)    #ridge\n",
    "library(mgcv)"
   ]
  },
  {
   "cell_type": "code",
   "execution_count": 2,
   "metadata": {},
   "outputs": [],
   "source": [
    "setwd(\"~/Documents/STK-IN4300/oblig2-2\")"
   ]
  },
  {
   "cell_type": "markdown",
   "metadata": {},
   "source": [
    "## Problem 1, regression:"
   ]
  },
  {
   "cell_type": "code",
   "execution_count": 3,
   "metadata": {},
   "outputs": [
    {
     "data": {
      "text/plain": [
       "      TPSA            SAacc             H050             MLOGP       \n",
       " Min.   :  0.00   Min.   :  0.00   Min.   : 0.0000   Min.   :-6.446  \n",
       " 1st Qu.: 15.79   1st Qu.: 11.00   1st Qu.: 0.0000   1st Qu.: 1.232  \n",
       " Median : 40.46   Median : 42.68   Median : 0.0000   Median : 2.273  \n",
       " Mean   : 48.47   Mean   : 58.87   Mean   : 0.9377   Mean   : 2.313  \n",
       " 3rd Qu.: 70.02   3rd Qu.: 77.49   3rd Qu.: 1.0000   3rd Qu.: 3.393  \n",
       " Max.   :347.32   Max.   :571.95   Max.   :18.0000   Max.   : 9.148  \n",
       "     RDCHI           GATS1p            nN              C040        \n",
       " Min.   :1.000   Min.   :0.281   Min.   : 0.000   Min.   : 0.0000  \n",
       " 1st Qu.:1.975   1st Qu.:0.737   1st Qu.: 0.000   1st Qu.: 0.0000  \n",
       " Median :2.344   Median :1.020   Median : 1.000   Median : 0.0000  \n",
       " Mean   :2.492   Mean   :1.046   Mean   : 1.004   Mean   : 0.3535  \n",
       " 3rd Qu.:2.911   3rd Qu.:1.266   3rd Qu.: 2.000   3rd Qu.: 0.0000  \n",
       " Max.   :6.439   Max.   :2.500   Max.   :11.000   Max.   :11.0000  \n",
       "      LC50       \n",
       " Min.   : 0.122  \n",
       " 1st Qu.: 3.602  \n",
       " Median : 4.516  \n",
       " Mean   : 4.658  \n",
       " 3rd Qu.: 5.607  \n",
       " Max.   :10.047  "
      ]
     },
     "metadata": {},
     "output_type": "display_data"
    }
   ],
   "source": [
    "data <- read.csv(file = 'qsar_aquatic_toxicity.csv', header = FALSE, sep=\";\")\n",
    "colnames(data) = cbind(\"TPSA\", \"SAacc\", \"H050\", \"MLOGP\", \"RDCHI\", \"GATS1p\", \"nN\", \"C040\", \"LC50\")\n",
    "#why is the data frame unlabeled and the entries seperated by \";\"?\n",
    "\n",
    "summary(data)"
   ]
  },
  {
   "cell_type": "markdown",
   "metadata": {},
   "source": [
    "By inspection, some factors of the counting features occure very rarly. These are promptly removed, becaue it can lead to problems if these factors appear in the test data, but not the train data."
   ]
  },
  {
   "cell_type": "code",
   "execution_count": 4,
   "metadata": {},
   "outputs": [],
   "source": [
    "data <- data[data$H050<6,]\n",
    "data <- data[data$nN<6,]\n",
    "data <- data[data$C040 < 3,]"
   ]
  },
  {
   "cell_type": "markdown",
   "metadata": {},
   "source": [
    "### Train-Test Split:"
   ]
  },
  {
   "cell_type": "code",
   "execution_count": 5,
   "metadata": {},
   "outputs": [],
   "source": [
    "set.seed(42)\n",
    "n = nrow(data)\n",
    "train_size = floor(0.6*n)\n",
    "train_idx = sample(seq_len(n), size = train_size)\n",
    "\n",
    "train = data[train_idx,]\n",
    "test = data[-train_idx,]"
   ]
  },
  {
   "cell_type": "markdown",
   "metadata": {},
   "source": [
    "## Model with numeric features"
   ]
  },
  {
   "cell_type": "code",
   "execution_count": 6,
   "metadata": {},
   "outputs": [
    {
     "name": "stdout",
     "output_type": "stream",
     "text": [
      "[1] \"MSE on test data for model with numeric features: 1.55471329781609\"\n"
     ]
    },
    {
     "data": {
      "text/plain": [
       "\n",
       "Call:\n",
       "lm(formula = LC50 ~ ., data = train)\n",
       "\n",
       "Residuals:\n",
       "    Min      1Q  Median      3Q     Max \n",
       "-2.6160 -0.8128 -0.1343  0.6174  3.8872 \n",
       "\n",
       "Coefficients:\n",
       "             Estimate Std. Error t value Pr(>|t|)    \n",
       "(Intercept)  2.768081   0.304962   9.077  < 2e-16 ***\n",
       "TPSA         0.030000   0.003575   8.392 1.74e-15 ***\n",
       "SAacc       -0.016395   0.002706  -6.060 3.96e-09 ***\n",
       "H050        -0.115121   0.086407  -1.332  0.18374    \n",
       "MLOGP        0.430367   0.082784   5.199 3.66e-07 ***\n",
       "RDCHI        0.502127   0.169634   2.960  0.00331 ** \n",
       "GATS1p      -0.498033   0.199199  -2.500  0.01293 *  \n",
       "nN          -0.160385   0.069173  -2.319  0.02107 *  \n",
       "C040        -0.123879   0.126760  -0.977  0.32920    \n",
       "---\n",
       "Signif. codes:  0 ‘***’ 0.001 ‘**’ 0.01 ‘*’ 0.05 ‘.’ 0.1 ‘ ’ 1\n",
       "\n",
       "Residual standard error: 1.16 on 309 degrees of freedom\n",
       "Multiple R-squared:  0.4923,\tAdjusted R-squared:  0.4791 \n",
       "F-statistic: 37.45 on 8 and 309 DF,  p-value: < 2.2e-16\n"
      ]
     },
     "metadata": {},
     "output_type": "display_data"
    }
   ],
   "source": [
    "lm_numeric_features <- lm(LC50 ~ ., data = train)\n",
    "\n",
    "test_mse <- mean((test$LC50 - predict.lm(lm_numeric_features, test))^2)\n",
    "print(paste0(\"MSE on test data for model with numeric features: \", test_mse))\n",
    "summary(lm_numeric_features)"
   ]
  },
  {
   "cell_type": "markdown",
   "metadata": {},
   "source": [
    "## Model with categorical features"
   ]
  },
  {
   "cell_type": "code",
   "execution_count": 7,
   "metadata": {},
   "outputs": [],
   "source": [
    "train$H050 <- as.factor(train$H050)\n",
    "test$H050 <- as.factor(test$H050)\n",
    "\n",
    "train$nN <- as.factor(train$nN)\n",
    "test$nN <- as.factor(test$nN)\n",
    "\n",
    "train$C040 <- as.factor(train$C040)\n",
    "test$C040 <- as.factor(test$C040)"
   ]
  },
  {
   "cell_type": "code",
   "execution_count": 8,
   "metadata": {},
   "outputs": [
    {
     "name": "stdout",
     "output_type": "stream",
     "text": [
      "[1] \"MSE on test data for model with factor features: 1.50345969915486\"\n"
     ]
    },
    {
     "data": {
      "text/plain": [
       "\n",
       "Call:\n",
       "lm(formula = LC50 ~ ., data = train)\n",
       "\n",
       "Residuals:\n",
       "    Min      1Q  Median      3Q     Max \n",
       "-2.9250 -0.7585 -0.0751  0.6081  4.0081 \n",
       "\n",
       "Coefficients:\n",
       "             Estimate Std. Error t value Pr(>|t|)    \n",
       "(Intercept)  2.739701   0.317755   8.622 3.86e-16 ***\n",
       "TPSA         0.028896   0.003647   7.924 4.55e-14 ***\n",
       "SAacc       -0.016259   0.002885  -5.636 4.00e-08 ***\n",
       "H0501       -0.107165   0.184973  -0.579  0.56278    \n",
       "H0502       -0.430947   0.230076  -1.873  0.06203 .  \n",
       "H0503       -0.465218   0.417858  -1.113  0.26645    \n",
       "H0504        0.124275   0.486665   0.255  0.79862    \n",
       "H0505       -0.167273   0.771160  -0.217  0.82843    \n",
       "MLOGP        0.431470   0.085405   5.052 7.61e-07 ***\n",
       "RDCHI        0.494350   0.176183   2.806  0.00535 ** \n",
       "GATS1p      -0.513390   0.203741  -2.520  0.01226 *  \n",
       "nN1          0.238308   0.169115   1.409  0.15983    \n",
       "nN2         -0.263349   0.231622  -1.137  0.25645    \n",
       "nN3         -0.183813   0.328837  -0.559  0.57659    \n",
       "nN4         -0.837986   0.482289  -1.738  0.08332 .  \n",
       "nN5         -0.880793   0.575512  -1.530  0.12696    \n",
       "C0401       -0.163513   0.194957  -0.839  0.40230    \n",
       "C0402       -0.250597   0.288808  -0.868  0.38626    \n",
       "---\n",
       "Signif. codes:  0 ‘***’ 0.001 ‘**’ 0.01 ‘*’ 0.05 ‘.’ 0.1 ‘ ’ 1\n",
       "\n",
       "Residual standard error: 1.158 on 300 degrees of freedom\n",
       "Multiple R-squared:  0.5092,\tAdjusted R-squared:  0.4813 \n",
       "F-statistic: 18.31 on 17 and 300 DF,  p-value: < 2.2e-16\n"
      ]
     },
     "metadata": {},
     "output_type": "display_data"
    }
   ],
   "source": [
    "lm_factor_features <- lm(LC50 ~ ., data = train)\n",
    "\n",
    "test_mse <- mean((test$LC50 - predict.lm(lm_factor_features, test))^2)\n",
    "print(paste0(\"MSE on test data for model with factor features: \", test_mse))\n",
    "summary(lm_factor_features)"
   ]
  },
  {
   "cell_type": "markdown",
   "metadata": {},
   "source": [
    "Comparing the models, we see that the numeric features of the first model are more significant than the categorical features of the second model. This is because in splitting the numeric features into categorical features, we get more parameters to estimate. The training examples will be split amoung the new categorical features, resulting in less data for estimation per parameter and thus less significance. \n",
    "\n",
    "Still, the MSE of the second ended up lower. This might be a result of the fact that our model is in a sense regularized, in the sense that categories in the data set that appeared very rearly was removed. These would \n",
    "result in the least significant parameters, but also caused bugs in R in the case that a category appeared in the test data, but not the training data.\n",
    "\n",
    "On the other hand, having more parameters, the second model is more expressive. It's not given that a numeric \n",
    "representation of the counting features is justified. This enforces a linear structure, in the sense that two atoms contribute twice as much to the response as one atom. This might be far from the true nature of the system, and categorical features might be more appropriate."
   ]
  },
  {
   "cell_type": "markdown",
   "metadata": {},
   "source": [
    "### Repeat 200 times"
   ]
  },
  {
   "cell_type": "code",
   "execution_count": 9,
   "metadata": {},
   "outputs": [
    {
     "name": "stdout",
     "output_type": "stream",
     "text": [
      "[1] \"Average MSE on test data for model with numeric features: 1.44059515148494\"\n",
      "[1] \"Average MSE on test data for model with factor features: 1.45521686010559\"\n"
     ]
    }
   ],
   "source": [
    "set.seed(42)\n",
    "mse_numeric = 0\n",
    "mse_factor = 0\n",
    "for (i in 1:200)\n",
    "{\n",
    "    n = nrow(data)\n",
    "    train_size = floor(0.75*n)\n",
    "    train_idx = sample(seq_len(n), size = train_size)\n",
    "\n",
    "    train = data[train_idx,]\n",
    "    test = data[-train_idx,]\n",
    "    \n",
    "    #numeric features\n",
    "    lm_numeric_features <- lm(LC50 ~ ., data = train)\n",
    "    mse_numeric = mse_numeric + mean((test$LC50 - predict.lm(lm_numeric_features, test))^2)\n",
    "    \n",
    "    \n",
    "    #factor features\n",
    "    train$H050 <- as.factor(train$H050)\n",
    "    train$nN <- as.factor(train$nN)\n",
    "    train$C040 <- as.factor(train$C040)\n",
    "    \n",
    "    \n",
    "    test$H050 <- as.factor(test$H050)\n",
    "    test$nN <- as.factor(test$nN)\n",
    "    test$C040 <- as.factor(test$C040)\n",
    "    \n",
    "    \n",
    "    \n",
    "    lm_factor_features <- lm(LC50 ~ ., data = train)\n",
    "    mse_factor = mse_factor + mean((test$LC50 - predict.lm(lm_factor_features, test))^2) \n",
    "}\n",
    "print(paste0(\"Average MSE on test data for model with numeric features: \", mse_numeric/200))\n",
    "print(paste0(\"Average MSE on test data for model with factor features: \", mse_factor/200))\n"
   ]
  },
  {
   "cell_type": "markdown",
   "metadata": {},
   "source": [
    "Averaging the previous procedure over 200 runs, the models perform approximatly equally good."
   ]
  },
  {
   "cell_type": "markdown",
   "metadata": {},
   "source": [
    "## Subset selection"
   ]
  },
  {
   "cell_type": "code",
   "execution_count": 10,
   "metadata": {},
   "outputs": [],
   "source": [
    "data <- read.csv(file = 'qsar_aquatic_toxicity.csv', header = FALSE, sep=\";\")\n",
    "colnames(data) = cbind(\"TPSA\", \"SAacc\", \"H050\", \"MLOGP\", \"RDCHI\", \"GATS1p\", \"nN\", \"C040\", \"LC50\")"
   ]
  },
  {
   "cell_type": "code",
   "execution_count": 11,
   "metadata": {},
   "outputs": [],
   "source": [
    "set.seed(42)\n",
    "n = nrow(data)\n",
    "train_size = floor(0.6*n)\n",
    "train_idx = sample(seq_len(n), size = train_size)\n",
    "\n",
    "train = data[train_idx,]\n",
    "test = data[-train_idx,]"
   ]
  },
  {
   "cell_type": "code",
   "execution_count": 12,
   "metadata": {},
   "outputs": [
    {
     "name": "stdout",
     "output_type": "stream",
     "text": [
      "\n",
      "Direction:  forward\n",
      "Criterion:  AIC \n",
      "\n",
      "\n",
      "Direction:  backward\n",
      "Criterion:  AIC \n",
      "\n"
     ]
    },
    {
     "data": {
      "text/plain": [
       "\n",
       "Call:\n",
       "lm(formula = LC50 ~ MLOGP + TPSA + SAacc + nN + RDCHI + GATS1p, \n",
       "    data = train)\n",
       "\n",
       "Residuals:\n",
       "    Min      1Q  Median      3Q     Max \n",
       "-4.7898 -0.7416 -0.0908  0.6728  3.5676 \n",
       "\n",
       "Coefficients:\n",
       "             Estimate Std. Error t value Pr(>|t|)    \n",
       "(Intercept)  2.498946   0.280097   8.922  < 2e-16 ***\n",
       "MLOGP        0.389424   0.075410   5.164 4.25e-07 ***\n",
       "TPSA         0.028554   0.003123   9.142  < 2e-16 ***\n",
       "SAacc       -0.015683   0.001975  -7.942 3.41e-14 ***\n",
       "nN          -0.262371   0.060172  -4.360 1.75e-05 ***\n",
       "RDCHI        0.677960   0.166333   4.076 5.79e-05 ***\n",
       "GATS1p      -0.564347   0.171382  -3.293   0.0011 ** \n",
       "---\n",
       "Signif. codes:  0 ‘***’ 0.001 ‘**’ 0.01 ‘*’ 0.05 ‘.’ 0.1 ‘ ’ 1\n",
       "\n",
       "Residual standard error: 1.126 on 320 degrees of freedom\n",
       "Multiple R-squared:  0.5296,\tAdjusted R-squared:  0.5208 \n",
       "F-statistic: 60.05 on 6 and 320 DF,  p-value: < 2.2e-16\n"
      ]
     },
     "metadata": {},
     "output_type": "display_data"
    },
    {
     "data": {
      "text/plain": [
       "\n",
       "Call:\n",
       "lm(formula = LC50 ~ TPSA + SAacc + MLOGP + RDCHI + GATS1p + nN, \n",
       "    data = train)\n",
       "\n",
       "Residuals:\n",
       "    Min      1Q  Median      3Q     Max \n",
       "-4.7898 -0.7416 -0.0908  0.6728  3.5676 \n",
       "\n",
       "Coefficients:\n",
       "             Estimate Std. Error t value Pr(>|t|)    \n",
       "(Intercept)  2.498946   0.280097   8.922  < 2e-16 ***\n",
       "TPSA         0.028554   0.003123   9.142  < 2e-16 ***\n",
       "SAacc       -0.015683   0.001975  -7.942 3.41e-14 ***\n",
       "MLOGP        0.389424   0.075410   5.164 4.25e-07 ***\n",
       "RDCHI        0.677960   0.166333   4.076 5.79e-05 ***\n",
       "GATS1p      -0.564347   0.171382  -3.293   0.0011 ** \n",
       "nN          -0.262371   0.060172  -4.360 1.75e-05 ***\n",
       "---\n",
       "Signif. codes:  0 ‘***’ 0.001 ‘**’ 0.01 ‘*’ 0.05 ‘.’ 0.1 ‘ ’ 1\n",
       "\n",
       "Residual standard error: 1.126 on 320 degrees of freedom\n",
       "Multiple R-squared:  0.5296,\tAdjusted R-squared:  0.5208 \n",
       "F-statistic: 60.05 on 6 and 320 DF,  p-value: < 2.2e-16\n"
      ]
     },
     "metadata": {},
     "output_type": "display_data"
    },
    {
     "name": "stdout",
     "output_type": "stream",
     "text": [
      "\n",
      "Direction:  forward\n",
      "Criterion:  BIC \n",
      "\n",
      "\n",
      "Direction:  backward\n",
      "Criterion:  BIC \n",
      "\n"
     ]
    },
    {
     "data": {
      "text/plain": [
       "\n",
       "Call:\n",
       "lm(formula = LC50 ~ MLOGP + TPSA + SAacc + nN + RDCHI + GATS1p, \n",
       "    data = train)\n",
       "\n",
       "Residuals:\n",
       "    Min      1Q  Median      3Q     Max \n",
       "-4.7898 -0.7416 -0.0908  0.6728  3.5676 \n",
       "\n",
       "Coefficients:\n",
       "             Estimate Std. Error t value Pr(>|t|)    \n",
       "(Intercept)  2.498946   0.280097   8.922  < 2e-16 ***\n",
       "MLOGP        0.389424   0.075410   5.164 4.25e-07 ***\n",
       "TPSA         0.028554   0.003123   9.142  < 2e-16 ***\n",
       "SAacc       -0.015683   0.001975  -7.942 3.41e-14 ***\n",
       "nN          -0.262371   0.060172  -4.360 1.75e-05 ***\n",
       "RDCHI        0.677960   0.166333   4.076 5.79e-05 ***\n",
       "GATS1p      -0.564347   0.171382  -3.293   0.0011 ** \n",
       "---\n",
       "Signif. codes:  0 ‘***’ 0.001 ‘**’ 0.01 ‘*’ 0.05 ‘.’ 0.1 ‘ ’ 1\n",
       "\n",
       "Residual standard error: 1.126 on 320 degrees of freedom\n",
       "Multiple R-squared:  0.5296,\tAdjusted R-squared:  0.5208 \n",
       "F-statistic: 60.05 on 6 and 320 DF,  p-value: < 2.2e-16\n"
      ]
     },
     "metadata": {},
     "output_type": "display_data"
    },
    {
     "data": {
      "text/plain": [
       "\n",
       "Call:\n",
       "lm(formula = LC50 ~ TPSA + SAacc + MLOGP + RDCHI + GATS1p + nN, \n",
       "    data = train)\n",
       "\n",
       "Residuals:\n",
       "    Min      1Q  Median      3Q     Max \n",
       "-4.7898 -0.7416 -0.0908  0.6728  3.5676 \n",
       "\n",
       "Coefficients:\n",
       "             Estimate Std. Error t value Pr(>|t|)    \n",
       "(Intercept)  2.498946   0.280097   8.922  < 2e-16 ***\n",
       "TPSA         0.028554   0.003123   9.142  < 2e-16 ***\n",
       "SAacc       -0.015683   0.001975  -7.942 3.41e-14 ***\n",
       "MLOGP        0.389424   0.075410   5.164 4.25e-07 ***\n",
       "RDCHI        0.677960   0.166333   4.076 5.79e-05 ***\n",
       "GATS1p      -0.564347   0.171382  -3.293   0.0011 ** \n",
       "nN          -0.262371   0.060172  -4.360 1.75e-05 ***\n",
       "---\n",
       "Signif. codes:  0 ‘***’ 0.001 ‘**’ 0.01 ‘*’ 0.05 ‘.’ 0.1 ‘ ’ 1\n",
       "\n",
       "Residual standard error: 1.126 on 320 degrees of freedom\n",
       "Multiple R-squared:  0.5296,\tAdjusted R-squared:  0.5208 \n",
       "F-statistic: 60.05 on 6 and 320 DF,  p-value: < 2.2e-16\n"
      ]
     },
     "metadata": {},
     "output_type": "display_data"
    }
   ],
   "source": [
    "full_model = lm(LC50 ~ ., data = train)\n",
    "\n",
    "forwardAIC_model = stepwise(full_model, direction = \"forward\", criterion = \"AIC\", trace=0)\n",
    "backwardAIC_model = stepwise(full_model, direction = \"backward\", criterion = \"AIC\", trace=0)\n",
    "summary(forwardAIC_model)\n",
    "summary(backwardAIC_model)\n",
    "\n",
    "forwardBIC_model = stepwise(full_model, direction = \"forward\", criterion = \"BIC\", trace=0)\n",
    "backwardBIC_model = stepwise(full_model, direction = \"backward\", criterion = \"BIC\", trace=0)\n",
    "summary(forwardBIC_model)\n",
    "summary(backwardBIC_model)\n",
    "\n"
   ]
  },
  {
   "cell_type": "markdown",
   "metadata": {},
   "source": [
    "Forward selection and backward elimination both produce a sequence of models with different number of features.\n",
    "Forward selection starts with the empty model, and in sequence adds the most significant feature. Backwards elimination starts with the full model, and removes the least significant feature. These are greedy searches. Consider forward selection: It starts by adding the most significant feature, but this does not necesarily mean that this feature is part of the best (exhaustive) subset. Even though the first feature is most significant in isolation, it might be less significant in combination with other features. This is due to correlations among features. \n",
    "\n",
    "In this example, all methods produced the same model. This could mean that there is little correlation among the features, based on what was discussed earlier."
   ]
  },
  {
   "cell_type": "markdown",
   "metadata": {},
   "source": [
    "## Ridge regression"
   ]
  },
  {
   "cell_type": "code",
   "execution_count": 25,
   "metadata": {},
   "outputs": [],
   "source": [
    "set.seed(42)\n",
    "n = nrow(data)\n",
    "train_size = floor(0.6*n)\n",
    "train_idx = sample(seq_len(n), size = train_size)\n",
    "\n",
    "train = data[train_idx,]\n",
    "test = data[-train_idx,]\n",
    "\n",
    "x_train = as.matrix(train[,-9])\n",
    "y_train = as.matrix(train$LC50)\n",
    "\n",
    "x_test = as.matrix(test[,-9])\n",
    "y_test = as.matrix(test$LC50)\n",
    "\n",
    "scaler = preProcess(x_train)\n",
    "x_train = predict(scaler, x_train)\n",
    "x_test = predict(scaler, x_test)\n",
    "\n",
    "grid = 10^seq(-5, -1, length = 20)"
   ]
  },
  {
   "cell_type": "markdown",
   "metadata": {},
   "source": [
    "### CV, 10-fold"
   ]
  },
  {
   "cell_type": "code",
   "execution_count": 26,
   "metadata": {},
   "outputs": [
    {
     "name": "stdout",
     "output_type": "stream",
     "text": [
      "[1] \"Best lambda found with CV: 1e-05\"\n",
      "[1] \"MSE train: 1,23395790262481\"\n",
      "[1] \"MSE test: 1,75684730589915\"\n"
     ]
    },
    {
     "data": {
      "image/png": "[encoded data removed]",
      "text/plain": [
       "plot without title"
      ]
     },
     "metadata": {},
     "output_type": "display_data"
    }
   ],
   "source": [
    "cv_out = cv.glmnet(x_train, y_train, lambda = grid, \n",
    "                   type.measure = \"deviance\", nfolds = 10, trace.it = 0, alpha = 0)\n",
    "\n",
    "plot(cv_out)\n",
    "opt_lambda <- cv_out$lambda.min #best lambda\n",
    "print(paste0(\"Best lambda found with CV: \", opt_lambda))\n",
    "fit = cv_out$glmnet.fit #all fitted models\n",
    "\n",
    "y_predicted_train <- predict(fit, s = opt_lambda, newx = x_train)\n",
    "mse_train = mean((y_predicted_train - y_train)^2)\n",
    "\n",
    "y_predicted_test <- predict(fit, s = opt_lambda, newx = x_test)\n",
    "mse_test = mean((y_predicted_test - y_test)^2)\n",
    "\n",
    "print(paste0(\"MSE train: \", mse_train))\n",
    "print(paste0(\"MSE test: \", mse_test))"
   ]
  },
  {
   "cell_type": "markdown",
   "metadata": {},
   "source": [
    "### Bootstrap"
   ]
  },
  {
   "cell_type": "code",
   "execution_count": 27,
   "metadata": {},
   "outputs": [
    {
     "data": {
      "image/png": "[encoded data removed]",
      "text/plain": [
       "plot without title"
      ]
     },
     "metadata": {},
     "output_type": "display_data"
    }
   ],
   "source": [
    "set.seed(42)\n",
    "n = nrow(x_train)\n",
    "B = 1000\n",
    "MSE_vec = rep(0,20)\n",
    "\n",
    "for (i in 1:20)\n",
    "{\n",
    "    MSE = 0\n",
    "    for (j in 1:B)\n",
    "    {\n",
    "        idx = sample(seq_len(n), size = n, replace = TRUE)\n",
    "\n",
    "        fit = glmnet(x_train[idx,], y_train[idx,], lambda = grid[i], alpha = 0)\n",
    "        #predict on out of sample\n",
    "        y_predicted = predict(fit, newx = x_train[-idx,])  \n",
    "        MSE = MSE + mean((y_predicted - y_train[-idx,])^2)\n",
    "    }\n",
    "    MSE_vec[i] = MSE/B\n",
    "}\n",
    "plot(log(grid), MSE_vec)"
   ]
  },
  {
   "cell_type": "markdown",
   "metadata": {},
   "source": [
    "## Smoothing splines"
   ]
  },
  {
   "cell_type": "code",
   "execution_count": 32,
   "metadata": {},
   "outputs": [],
   "source": [
    "set.seed(42)\n",
    "n = nrow(data)\n",
    "train_size = floor(0.6*n)\n",
    "train_idx = sample(seq_len(n), size = train_size)\n",
    "\n",
    "train = data[train_idx,]\n",
    "test = data[-train_idx,]"
   ]
  },
  {
   "cell_type": "code",
   "execution_count": 41,
   "metadata": {},
   "outputs": [],
   "source": [
    "fit = gam(LC50 ~ s(TPSA, bs=\"cr\") + s(SAacc, bs=\"cr\") + s(H050, bs=\"cr\") + s(MLOGP, bs=\"cr\")\n",
    "          + s(RDCHI, bs=\"cr\") + s(GATS1p, bs=\"cr\"),\n",
    "          data=train)"
   ]
  },
  {
   "cell_type": "code",
   "execution_count": null,
   "metadata": {},
   "outputs": [],
   "source": [
    "y_predicted_train = predict(fit, newx = train)\n"
   ]
  }
 ],
 "metadata": {
  "kernelspec": {
   "display_name": "R",
   "language": "R",
   "name": "ir"
  },
  "language_info": {
   "codemirror_mode": "r",
   "file_extension": ".r",
   "mimetype": "text/x-r-source",
   "name": "R",
   "pygments_lexer": "r",
   "version": "3.6.1"
  }
 },
 "nbformat": 4,
 "nbformat_minor": 4
}
