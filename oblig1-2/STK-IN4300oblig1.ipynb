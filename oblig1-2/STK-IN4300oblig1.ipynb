{
 "cells": [
  {
   "cell_type": "markdown",
   "metadata": {},
   "source": [
    "# STK-IN4300 - Oblig 1 - Kristian Wold"
   ]
  },
  {
   "cell_type": "markdown",
   "metadata": {},
   "source": [
    "In collaboration with Lasse Lorentz Braseth"
   ]
  },
  {
   "cell_type": "markdown",
   "metadata": {},
   "source": [
    "The aim of this analysis is to use Lasso regression to predict a response from multivariate data. CV was used to select the best penatly $\\lambda$, and the R2-score was calculated on a independant test set to assess the goodness of the model. Bootstrap sampling was then used to establish confidence intervals and p-values for the resulting coefficients of the best model. \n",
    "\n",
    "We chose to use the dataset \"Energy efficiency Data Set\". The relevant response is \"heating load\", that is, the efficiency at which one is able to heat a room. In this analysis, we use only the features included in the data set, omitting derived features such as higher orders and interactions. Features X1 through X8 correspond to Relative Compactness, Surface Area, Wall Area, Roof Area, Overall Height, Orientation, Glazing Area and Glazing Area Distribution.\n",
    "\n",
    "The analysis was performed using numpy and scikit learn."
   ]
  },
  {
   "cell_type": "code",
   "execution_count": 1,
   "metadata": {},
   "outputs": [],
   "source": [
    "import pandas as pd\n",
    "import numpy as np\n",
    "import matplotlib.pyplot as plt\n",
    "from sklearn.model_selection import train_test_split\n",
    "from sklearn.linear_model import Lasso, LassoCV\n",
    "from sklearn.utils import resample\n",
    "from scipy.stats import norm\n",
    "\n",
    "np.random.seed(42)"
   ]
  },
  {
   "cell_type": "code",
   "execution_count": 2,
   "metadata": {},
   "outputs": [
    {
     "data": {
      "text/html": [
       "<div>\n",
       "<style scoped>\n",
       "    .dataframe tbody tr th:only-of-type {\n",
       "        vertical-align: middle;\n",
       "    }\n",
       "\n",
       "    .dataframe tbody tr th {\n",
       "        vertical-align: top;\n",
       "    }\n",
       "\n",
       "    .dataframe thead th {\n",
       "        text-align: right;\n",
       "    }\n",
       "</style>\n",
       "<table border=\"1\" class=\"dataframe\">\n",
       "  <thead>\n",
       "    <tr style=\"text-align: right;\">\n",
       "      <th></th>\n",
       "      <th>X1</th>\n",
       "      <th>X2</th>\n",
       "      <th>X3</th>\n",
       "      <th>X4</th>\n",
       "      <th>X5</th>\n",
       "      <th>X6</th>\n",
       "      <th>X7</th>\n",
       "      <th>X8</th>\n",
       "      <th>Y1</th>\n",
       "      <th>Y2</th>\n",
       "    </tr>\n",
       "  </thead>\n",
       "  <tbody>\n",
       "    <tr>\n",
       "      <th>count</th>\n",
       "      <td>768.000000</td>\n",
       "      <td>768.000000</td>\n",
       "      <td>768.000000</td>\n",
       "      <td>768.000000</td>\n",
       "      <td>768.00000</td>\n",
       "      <td>768.000000</td>\n",
       "      <td>768.000000</td>\n",
       "      <td>768.00000</td>\n",
       "      <td>768.000000</td>\n",
       "      <td>768.000000</td>\n",
       "    </tr>\n",
       "    <tr>\n",
       "      <th>mean</th>\n",
       "      <td>0.764167</td>\n",
       "      <td>671.708333</td>\n",
       "      <td>318.500000</td>\n",
       "      <td>176.604167</td>\n",
       "      <td>5.25000</td>\n",
       "      <td>3.500000</td>\n",
       "      <td>0.234375</td>\n",
       "      <td>2.81250</td>\n",
       "      <td>22.307195</td>\n",
       "      <td>24.587760</td>\n",
       "    </tr>\n",
       "    <tr>\n",
       "      <th>std</th>\n",
       "      <td>0.105777</td>\n",
       "      <td>88.086116</td>\n",
       "      <td>43.626481</td>\n",
       "      <td>45.165950</td>\n",
       "      <td>1.75114</td>\n",
       "      <td>1.118763</td>\n",
       "      <td>0.133221</td>\n",
       "      <td>1.55096</td>\n",
       "      <td>10.090204</td>\n",
       "      <td>9.513306</td>\n",
       "    </tr>\n",
       "    <tr>\n",
       "      <th>min</th>\n",
       "      <td>0.620000</td>\n",
       "      <td>514.500000</td>\n",
       "      <td>245.000000</td>\n",
       "      <td>110.250000</td>\n",
       "      <td>3.50000</td>\n",
       "      <td>2.000000</td>\n",
       "      <td>0.000000</td>\n",
       "      <td>0.00000</td>\n",
       "      <td>6.010000</td>\n",
       "      <td>10.900000</td>\n",
       "    </tr>\n",
       "    <tr>\n",
       "      <th>25%</th>\n",
       "      <td>0.682500</td>\n",
       "      <td>606.375000</td>\n",
       "      <td>294.000000</td>\n",
       "      <td>140.875000</td>\n",
       "      <td>3.50000</td>\n",
       "      <td>2.750000</td>\n",
       "      <td>0.100000</td>\n",
       "      <td>1.75000</td>\n",
       "      <td>12.992500</td>\n",
       "      <td>15.620000</td>\n",
       "    </tr>\n",
       "    <tr>\n",
       "      <th>50%</th>\n",
       "      <td>0.750000</td>\n",
       "      <td>673.750000</td>\n",
       "      <td>318.500000</td>\n",
       "      <td>183.750000</td>\n",
       "      <td>5.25000</td>\n",
       "      <td>3.500000</td>\n",
       "      <td>0.250000</td>\n",
       "      <td>3.00000</td>\n",
       "      <td>18.950000</td>\n",
       "      <td>22.080000</td>\n",
       "    </tr>\n",
       "    <tr>\n",
       "      <th>75%</th>\n",
       "      <td>0.830000</td>\n",
       "      <td>741.125000</td>\n",
       "      <td>343.000000</td>\n",
       "      <td>220.500000</td>\n",
       "      <td>7.00000</td>\n",
       "      <td>4.250000</td>\n",
       "      <td>0.400000</td>\n",
       "      <td>4.00000</td>\n",
       "      <td>31.667500</td>\n",
       "      <td>33.132500</td>\n",
       "    </tr>\n",
       "    <tr>\n",
       "      <th>max</th>\n",
       "      <td>0.980000</td>\n",
       "      <td>808.500000</td>\n",
       "      <td>416.500000</td>\n",
       "      <td>220.500000</td>\n",
       "      <td>7.00000</td>\n",
       "      <td>5.000000</td>\n",
       "      <td>0.400000</td>\n",
       "      <td>5.00000</td>\n",
       "      <td>43.100000</td>\n",
       "      <td>48.030000</td>\n",
       "    </tr>\n",
       "  </tbody>\n",
       "</table>\n",
       "</div>"
      ],
      "text/plain": [
       "               X1          X2          X3          X4         X5          X6  \\\n",
       "count  768.000000  768.000000  768.000000  768.000000  768.00000  768.000000   \n",
       "mean     0.764167  671.708333  318.500000  176.604167    5.25000    3.500000   \n",
       "std      0.105777   88.086116   43.626481   45.165950    1.75114    1.118763   \n",
       "min      0.620000  514.500000  245.000000  110.250000    3.50000    2.000000   \n",
       "25%      0.682500  606.375000  294.000000  140.875000    3.50000    2.750000   \n",
       "50%      0.750000  673.750000  318.500000  183.750000    5.25000    3.500000   \n",
       "75%      0.830000  741.125000  343.000000  220.500000    7.00000    4.250000   \n",
       "max      0.980000  808.500000  416.500000  220.500000    7.00000    5.000000   \n",
       "\n",
       "               X7         X8          Y1          Y2  \n",
       "count  768.000000  768.00000  768.000000  768.000000  \n",
       "mean     0.234375    2.81250   22.307195   24.587760  \n",
       "std      0.133221    1.55096   10.090204    9.513306  \n",
       "min      0.000000    0.00000    6.010000   10.900000  \n",
       "25%      0.100000    1.75000   12.992500   15.620000  \n",
       "50%      0.250000    3.00000   18.950000   22.080000  \n",
       "75%      0.400000    4.00000   31.667500   33.132500  \n",
       "max      0.400000    5.00000   43.100000   48.030000  "
      ]
     },
     "execution_count": 2,
     "metadata": {},
     "output_type": "execute_result"
    }
   ],
   "source": [
    "data = pd.read_excel(\"ENB2012_data.xlsx\")\n",
    "data.describe()"
   ]
  },
  {
   "cell_type": "code",
   "execution_count": 3,
   "metadata": {},
   "outputs": [],
   "source": [
    "x = data.drop(columns = [\"Y1\", \"Y2\"]) #extract features\n",
    "y = data[\"Y1\"]                        #extract response\n",
    "x_train, x_test, y_train, y_test = train_test_split(x, y, test_size=0.2)"
   ]
  },
  {
   "cell_type": "markdown",
   "metadata": {},
   "source": [
    "### Model Selection"
   ]
  },
  {
   "cell_type": "code",
   "execution_count": 4,
   "metadata": {},
   "outputs": [
    {
     "name": "stdout",
     "output_type": "stream",
     "text": [
      "Best model obtained for lambda = 4.328761281083062e-05, with R2 = 0.9121 on test data\n"
     ]
    }
   ],
   "source": [
    "alphas = np.logspace(-6, 0, 100)\n",
    "#fit lasso using 5-fold CV, making sure to normalize data so that parameters are penalized fairly\n",
    "lassoCV = LassoCV(cv=5, alphas = alphas, normalize = True, max_iter = 1000000)\n",
    "reg = lassoCV.fit(x_train, y_train)\n",
    "r2 = reg.score(x_test, y_test)\n",
    "\n",
    "print(f\"Best model obtained for lambda = {reg.alpha_}, with R2 = {r2:.4f} on test data\")"
   ]
  },
  {
   "cell_type": "markdown",
   "metadata": {},
   "source": [
    "Achieving an R2 score of $91\\%$, our model is able to explain most of the variance of the reponse from the features alone, without considering higher orders. "
   ]
  },
  {
   "cell_type": "markdown",
   "metadata": {},
   "source": [
    "## Confidence intervals and p-values using bootstrap"
   ]
  },
  {
   "cell_type": "markdown",
   "metadata": {},
   "source": [
    "As the variance of the paramaters have no closed form expression in the case of Lasso, we use bootstrap sampling to estimate these quantities. The bootstrap samples are generated by resampling the training set from earlier, and the models are trained using the best $\\lambda$."
   ]
  },
  {
   "cell_type": "code",
   "execution_count": 5,
   "metadata": {},
   "outputs": [],
   "source": [
    "best_alpha = reg.alpha_"
   ]
  },
  {
   "cell_type": "code",
   "execution_count": 6,
   "metadata": {},
   "outputs": [],
   "source": [
    "n = x_train.shape[0]\n",
    "intercept = []\n",
    "coef = [] # coefficients of bootstrap models\n",
    "B = 100 # number of bootstrap samples\n",
    "for i in range(B):\n",
    "    model = Lasso(alpha=best_alpha, normalize=True, max_iter = 100000)\n",
    "    x_boot, y_boot = resample(x_train, y_train, replace=True, n_samples=n)\n",
    "    model.fit(x_boot, y_boot)\n",
    "    intercept.append(model.intercept_)\n",
    "    coef.append(model.coef_)"
   ]
  },
  {
   "cell_type": "code",
   "execution_count": 7,
   "metadata": {},
   "outputs": [],
   "source": [
    "intercept_array = np.array(intercept)\n",
    "coef_array = np.array(coef)\n",
    "\n",
    "intercept_mean = np.mean(intercept_array) # average of intercept across bootstrap samples\n",
    "intercept_std = np.std(intercept_array) # standard deviation of intercept across bootstrap samples\n",
    "\n",
    "coef_mean = np.mean(coef_array, axis=0) # average of coefficients across bootstrap samples\n",
    "coef_std = np.std(coef_array, axis=0) # standard deviation of coefficients across bootstrap samples"
   ]
  },
  {
   "cell_type": "markdown",
   "metadata": {},
   "source": [
    "#### $95\\%$ confidence interval of coefficients:"
   ]
  },
  {
   "cell_type": "code",
   "execution_count": 8,
   "metadata": {},
   "outputs": [
    {
     "name": "stdout",
     "output_type": "stream",
     "text": [
      "intercept: 76.940 +- 21.782\n",
      "X1: -60.027 +- 11.975\n",
      "X2: -0.073 +- 0.019\n",
      "X3: 0.053 +- 0.011\n",
      "X4: -0.020 +- 0.006\n",
      "X5: 4.107 +- 0.695\n",
      "X6: -0.026 +- 0.223\n",
      "X7: 20.004 +- 1.928\n",
      "X8: 0.213 +- 0.134\n"
     ]
    }
   ],
   "source": [
    "print(f\"intercept: {intercept_mean:.3f} +- {1.95*intercept_std:.3f}\")\n",
    "\n",
    "print(f\"X1: {coef_mean[0]:.3f} +- {1.95*coef_std[0]:.3f}\")\n",
    "print(f\"X2: {coef_mean[1]:.3f} +- {1.95*coef_std[1]:.3f}\")\n",
    "print(f\"X3: {coef_mean[2]:.3f} +- {1.95*coef_std[2]:.3f}\")\n",
    "print(f\"X4: {coef_mean[3]:.3f} +- {1.95*coef_std[3]:.3f}\")\n",
    "print(f\"X5: {coef_mean[4]:.3f} +- {1.95*coef_std[4]:.3f}\")\n",
    "print(f\"X6: {coef_mean[5]:.3f} +- {1.95*coef_std[5]:.3f}\")\n",
    "print(f\"X7: {coef_mean[6]:.3f} +- {1.95*coef_std[6]:.3f}\")\n",
    "print(f\"X8: {coef_mean[7]:.3f} +- {1.95*coef_std[7]:.3f}\")"
   ]
  },
  {
   "cell_type": "markdown",
   "metadata": {},
   "source": [
    "#### P-values"
   ]
  },
  {
   "cell_type": "markdown",
   "metadata": {},
   "source": [
    "The p-values of the coefficients are calculated using the standard deviation of the coefficient estimated using bootstrap sampling. The p-values are calculated with respect to one of the bootstrap samples, the first sample in this case(one experiment). The coefficients are assumed to be normally distributed, by the law of large numbers. "
   ]
  },
  {
   "cell_type": "code",
   "execution_count": 9,
   "metadata": {},
   "outputs": [],
   "source": [
    "intercept_scaled = intercept_array[0]/intercept_std\n",
    "coef_scaled = coef_array[0]/coef_std\n",
    "\n",
    "p_intercept = 2*(1-norm.cdf(np.abs(intercept_scaled)))\n",
    "p_coef = 2*(1-norm.cdf(np.abs(coef_scaled)))"
   ]
  },
  {
   "cell_type": "code",
   "execution_count": 10,
   "metadata": {},
   "outputs": [
    {
     "name": "stdout",
     "output_type": "stream",
     "text": [
      "intercept: P=0.00000\n",
      "X1: P=0.00000\n",
      "X2: P=0.00000\n",
      "X3: P=0.00000\n",
      "X4: P=0.00000\n",
      "X5: P=0.00000\n",
      "X6: P=0.33665\n",
      "X7: P=0.00000\n",
      "X8: P=0.00001\n"
     ]
    }
   ],
   "source": [
    "print(f\"intercept: P={p_intercept:.5f}\")\n",
    "\n",
    "print(f\"X1: P={p_coef[0]:.5f}\")\n",
    "print(f\"X2: P={p_coef[1]:.5f}\")\n",
    "print(f\"X3: P={p_coef[2]:.5f}\")\n",
    "print(f\"X4: P={p_coef[3]:.5f}\")\n",
    "print(f\"X5: P={p_coef[4]:.5f}\")\n",
    "print(f\"X6: P={p_coef[5]:.5f}\")\n",
    "print(f\"X7: P={p_coef[6]:.5f}\")\n",
    "print(f\"X8: P={p_coef[7]:.5f}\")"
   ]
  },
  {
   "cell_type": "markdown",
   "metadata": {},
   "source": [
    "Comparing the confidence intervals and p-values, we see that all but feature X6 is highly significant. Allthough some of the coefficients have quite wide confidence intervals, such as the intercept and X1, they are still significant as their magnitude are relativly bigger than the width of their confidence interval. X6's confidence interval, on the other hand, contain 0. This indicates that the orientation of the room have very little explanatory power with respect to the heat load of the room."
   ]
  }
 ],
 "metadata": {
  "kernelspec": {
   "display_name": "Python 3",
   "language": "python",
   "name": "python3"
  },
  "language_info": {
   "codemirror_mode": {
    "name": "ipython",
    "version": 3
   },
   "file_extension": ".py",
   "mimetype": "text/x-python",
   "name": "python",
   "nbconvert_exporter": "python",
   "pygments_lexer": "ipython3",
   "version": "3.8.3"
  }
 },
 "nbformat": 4,
 "nbformat_minor": 4
}
